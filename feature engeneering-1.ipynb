{
 "cells": [
  {
   "cell_type": "markdown",
   "id": "2b0812cd-a99a-43c4-bcf1-93d3ba5bbde1",
   "metadata": {},
   "source": [
    "Q1: What are missing values in a dataset? Why is it essential to handle missing values? Name some\n",
    "algorithms that are not affected by missing values."
   ]
  },
  {
   "cell_type": "markdown",
   "id": "c29a03fb-d516-411a-8f60-5bf8a137f539",
   "metadata": {},
   "source": [
    "Missing values in a dataset refer to the absence of data in certain variables or observations. They can occur due to various reasons such as data entry errors, equipment malfunctions, or non-responses in surveys. Handling missing values is essential because they can significantly impact the analysis and interpretation of the data, leading to biased results or erroneous conclusions. Ignoring missing values may distort statistical analyses, reduce the effectiveness of machine learning models, and compromise the reliability of insights derived from the data.\n",
    "\n",
    "Algorithms that are not affected by missing values include:\n",
    "\n",
    "Decision Trees: Decision trees are not directly affected by missing values. They can handle missing data by utilizing surrogate splits or imputation methods during tree construction.\n",
    "Random Forest: Random Forest is an ensemble learning method based on decision trees and is robust to missing values. It can handle missing data through the same mechanisms as decision trees.\n",
    "Gradient Boosting Machines (GBM): GBM algorithms, such as XGBoost and LightGBM, are also resilient to missing values and can handle them internally during the training process.\n",
    "K-Nearest Neighbors (KNN): KNN algorithms do not explicitly require imputation of missing values. They can compute distances between data points based on available features without needing to fill in missing values.\n",
    "Naive Bayes: Naive Bayes classifiers are not directly affected by missing values. They compute probabilities based on available data and can handle missing values by ignoring them during probability estimation.\n",
    "These algorithms either have built-in mechanisms to handle missing values or are inherently robust to them, making them suitable choices for analyzing datasets with missing values."
   ]
  },
  {
   "cell_type": "markdown",
   "id": "ba22098d-04cb-45fb-82ad-63d546c7ea81",
   "metadata": {},
   "source": [
    "Q2: List down techniques used to handle missing data. Give an example of each with python code."
   ]
  },
  {
   "cell_type": "markdown",
   "id": "39e42a58-6d1d-46b3-bea2-fd9c3d714570",
   "metadata": {},
   "source": [
    "Handling missing data is a crucial step in data preprocessing to ensure the integrity and accuracy of analyses and models. Below are some techniques commonly used to handle missing data, along with examples implemented in Python:\n",
    "\n",
    "Removing missing values: This approach involves discarding rows or columns with missing data.\n",
    "\n",
    "import pandas as pd\n",
    "\n",
    "# Create a DataFrame with missing values\n",
    "data = {'A': [1, 2, None, 4],\n",
    "        'B': [5, None, 7, 8]}\n",
    "df = pd.DataFrame(data)\n",
    "\n",
    "# Remove rows with missing values\n",
    "df_dropna = df.dropna()\n",
    "print(\"DataFrame after removing rows with missing values:\")\n",
    "print(df_dropna)\n",
    "\n",
    "# Remove columns with missing values\n",
    "df_dropna_cols = df.dropna(axis=1)\n",
    "print(\"\\nDataFrame after removing columns with missing values:\")\n",
    "print(df_dropna_cols)\n",
    "\n",
    "Imputation: This involves replacing missing values with substituted values, such as mean, median, or mode.\n",
    "\n",
    "# Impute missing values with mean\n",
    "df_fillna_mean = df.fillna(df.mean())\n",
    "print(\"\\nDataFrame after imputing missing values with mean:\")\n",
    "print(df_fillna_mean)\n",
    "\n",
    "# Impute missing values with median\n",
    "df_fillna_median = df.fillna(df.median())\n",
    "print(\"\\nDataFrame after imputing missing values with median:\")\n",
    "print(df_fillna_median)\n",
    "\n",
    "Forward fill (ffill) or backward fill (bfill): This method fills missing values with the preceding (forward fill) or succeeding (backward fill) non-missing value.\n",
    "\n",
    "# Forward fill missing values\n",
    "df_ffill = df.ffill()\n",
    "print(\"\\nDataFrame after forward fill:\")\n",
    "print(df_ffill)\n",
    "\n",
    "# Backward fill missing values\n",
    "df_bfill = df.bfill()\n",
    "print(\"\\nDataFrame after backward fill:\")\n",
    "print(df_bfill)\n",
    "\n",
    "\n",
    "Interpolation: This method estimates missing values based on surrounding data points.\n",
    "\n",
    "# Linear interpolation\n",
    "df_interpolate_linear = df.interpolate(method='linear')\n",
    "print(\"\\nDataFrame after linear interpolation:\")\n",
    "print(df_interpolate_linear)\n",
    "\n",
    "# Polynomial interpolation\n",
    "df_interpolate_poly = df.interpolate(method='polynomial', order=2)\n",
    "print(\"\\nDataFrame after polynomial interpolation:\")\n",
    "print(df_interpolate_poly)\n",
    "\n"
   ]
  },
  {
   "cell_type": "markdown",
   "id": "169c5749-691d-4581-8af8-d9b9e5375d6d",
   "metadata": {},
   "source": [
    "Q3: Explain the imbalanced data. What will happen if imbalanced data is not handled?"
   ]
  },
  {
   "cell_type": "markdown",
   "id": "52aac06c-bb2c-4e83-a7a7-fe5b2bef4409",
   "metadata": {},
   "source": [
    "Imbalanced data refers to a situation in which the classes within a dataset are not represented equally. This commonly occurs in classification problems when one class is significantly more prevalent than others. For instance, in a binary classification problem where one class represents 90% of the data and the other only 10%, the dataset is imbalanced.\n",
    "\n",
    "If imbalanced data is not handled properly, it can lead to several issues:\n",
    "\n",
    "Biased Model: Machine learning algorithms tend to favor the majority class, as they aim to minimize overall error. Consequently, the model may classify instances from the minority class incorrectly or inadequately, leading to biased predictions.\n",
    "\n",
    "Poor Generalization: Imbalanced data can result in models that fail to generalize well to unseen data. Since the minority class is underrepresented, the model may not learn enough about it to make accurate predictions on new instances.\n",
    "\n",
    "Evaluation Metrics Skew: Traditional evaluation metrics like accuracy can be misleading when dealing with imbalanced data. For instance, a model that predicts the majority class for all instances may achieve high accuracy, but it fails to detect instances of the minority class. Therefore, using accuracy alone can mask the model's poor performance on the minority class.\n",
    "\n",
    "Increased False Positives or Negatives: In scenarios where one class is more important than the other (e.g., detecting fraudulent transactions), misclassification errors can have severe consequences. Failure to properly handle imbalanced data may result in an increase in false positives or false negatives, leading to financial losses, safety issues, or other adverse outcomes.\n",
    "\n",
    "To address imbalanced data, various techniques can be employed, such as resampling (oversampling the minority class or undersampling the majority class), using different evaluation metrics (e.g., precision, recall, F1-score), ensemble methods, and algorithm-specific approaches (e.g., class weights, cost-sensitive learning). By employing appropriate strategies, the model can learn effectively from imbalanced data and make more accurate predictions across all classes."
   ]
  },
  {
   "cell_type": "code",
   "execution_count": null,
   "id": "3485a070-7a60-4c1c-9911-16ad2ee9d6d8",
   "metadata": {},
   "outputs": [],
   "source": []
  }
 ],
 "metadata": {
  "kernelspec": {
   "display_name": "Python 3 (ipykernel)",
   "language": "python",
   "name": "python3"
  },
  "language_info": {
   "codemirror_mode": {
    "name": "ipython",
    "version": 3
   },
   "file_extension": ".py",
   "mimetype": "text/x-python",
   "name": "python",
   "nbconvert_exporter": "python",
   "pygments_lexer": "ipython3",
   "version": "3.10.8"
  }
 },
 "nbformat": 4,
 "nbformat_minor": 5
}
